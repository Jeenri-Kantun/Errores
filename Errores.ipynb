{
 "cells": [
  {
   "cell_type": "code",
   "execution_count": 5,
   "id": "adjacent-bonus",
   "metadata": {},
   "outputs": [
    {
     "name": "stdout",
     "output_type": "stream",
     "text": [
      "Ingrese el valor real: 5\n",
      "Ingrese el valor aproximado: 4\n",
      "\n",
      "Error a: 1.0\n",
      "Error r: 0.2\n",
      "Error p: 20.0%\n"
     ]
    }
   ],
   "source": [
    "#metodos\n",
    "def absoluto (r,a):\n",
    "    return r-a\n",
    "\n",
    "def relativo (r,a):\n",
    "    return (r - a) / r\n",
    "\n",
    "def porcentual(r,a):\n",
    "    return((r - a) / r)*100\n",
    "\n",
    "\n",
    "#Datos de entrada\n",
    "real = float(input(\"Ingrese el valor real: \"))\n",
    "aproximado = float(input(\"Ingrese el valor aproximado: \"))\n",
    "\n",
    "\n",
    "#Datos de salida\n",
    "print()\n",
    "print(\"Error a: \" + str(absoluto(real,aproximado)))\n",
    "print(\"Error r: \" + str(relativo(real,aproximado)))\n",
    "print(\"Error p: \" + str(porcentual(real,aproximado))+\"%\")"
   ]
  },
  {
   "cell_type": "code",
   "execution_count": null,
   "id": "numeric-dating",
   "metadata": {},
   "outputs": [],
   "source": []
  }
 ],
 "metadata": {
  "kernelspec": {
   "display_name": "Python 3",
   "language": "python",
   "name": "python3"
  },
  "language_info": {
   "codemirror_mode": {
    "name": "ipython",
    "version": 3
   },
   "file_extension": ".py",
   "mimetype": "text/x-python",
   "name": "python",
   "nbconvert_exporter": "python",
   "pygments_lexer": "ipython3",
   "version": "3.9.2"
  }
 },
 "nbformat": 4,
 "nbformat_minor": 5
}
